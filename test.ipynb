{
 "cells": [
  {
   "metadata": {
    "ExecuteTime": {
     "end_time": "2025-02-26T03:28:11.454438Z",
     "start_time": "2025-02-26T03:28:11.443169Z"
    }
   },
   "cell_type": "code",
   "source": [
    "class Dog:\n",
    "    species = 'DOG'\n",
    "    def __init__(self, name, age):\n",
    "        self.name = name\n",
    "        self.age = age\n",
    "        self.species = Dog.species\n",
    "        \n",
    "    def describe(self, color):\n",
    "        return f\"The {self.species} is {self.age} years old, Its name is {self.name}, The color is {color}\"\n",
    "    \n",
    "    def greet(self):\n",
    "        return f\"Hello {self.name}\"\n",
    "    "
   ],
   "id": "8f225d99d4de7b2",
   "outputs": [],
   "execution_count": 3
  },
  {
   "metadata": {
    "ExecuteTime": {
     "end_time": "2025-02-26T03:28:36.854655Z",
     "start_time": "2025-02-26T03:28:36.847655Z"
    }
   },
   "cell_type": "code",
   "source": "print(Dog(\"Jerry\", 5))",
   "id": "9aa4844bb62bb811",
   "outputs": [
    {
     "name": "stdout",
     "output_type": "stream",
     "text": [
      "<__main__.Dog object at 0x000002B7AFB188B0>\n"
     ]
    }
   ],
   "execution_count": 4
  },
  {
   "metadata": {
    "ExecuteTime": {
     "end_time": "2025-02-26T03:28:44.927742Z",
     "start_time": "2025-02-26T03:28:44.921743Z"
    }
   },
   "cell_type": "code",
   "source": "my_dog = Dog(\"Jerry\", 5)",
   "id": "5fd991b2c0aee189",
   "outputs": [],
   "execution_count": 5
  },
  {
   "metadata": {
    "ExecuteTime": {
     "end_time": "2025-02-26T03:29:03.679898Z",
     "start_time": "2025-02-26T03:29:03.664249Z"
    }
   },
   "cell_type": "code",
   "source": "my_dog.describe(\"grey\")",
   "id": "2b784d91f38790b1",
   "outputs": [
    {
     "data": {
      "text/plain": [
       "'The DOG is 5 years old, Its name is Jerry, The color is grey'"
      ]
     },
     "execution_count": 6,
     "metadata": {},
     "output_type": "execute_result"
    }
   ],
   "execution_count": 6
  },
  {
   "metadata": {
    "ExecuteTime": {
     "end_time": "2025-02-26T03:29:23.311011Z",
     "start_time": "2025-02-26T03:29:23.298929Z"
    }
   },
   "cell_type": "code",
   "source": "my_dog.greet()",
   "id": "4b41554a3c06ff95",
   "outputs": [
    {
     "data": {
      "text/plain": [
       "'Hello Jerry'"
      ]
     },
     "execution_count": 7,
     "metadata": {},
     "output_type": "execute_result"
    }
   ],
   "execution_count": 7
  },
  {
   "metadata": {},
   "cell_type": "code",
   "outputs": [],
   "execution_count": null,
   "source": "",
   "id": "b694143f4c0e49b0"
  }
 ],
 "metadata": {
  "kernelspec": {
   "display_name": "Python 3",
   "language": "python",
   "name": "python3"
  },
  "language_info": {
   "codemirror_mode": {
    "name": "ipython",
    "version": 2
   },
   "file_extension": ".py",
   "mimetype": "text/x-python",
   "name": "python",
   "nbconvert_exporter": "python",
   "pygments_lexer": "ipython2",
   "version": "2.7.6"
  }
 },
 "nbformat": 4,
 "nbformat_minor": 5
}
